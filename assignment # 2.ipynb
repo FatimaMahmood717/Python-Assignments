{
 "cells": [
  {
   "cell_type": "code",
   "execution_count": 20,
   "metadata": {},
   "outputs": [
    {
     "name": "stdout",
     "output_type": "stream",
     "text": [
      "Enter your Percentage:99\n",
      "A+\n"
     ]
    }
   ],
   "source": [
    "percentage = int(input(\"Enter your Percentage:\"));\n",
    "if percentage >=80 and percentage <=100:\n",
    "  print(\"A+\")\n",
    "elif percentage >=70 and percentage <80:\n",
    "  print(\"A\")\n",
    "elif percentage >=60 and percentage <70:\n",
    "  print(\"B\")\n",
    "elif percentage >=50 and percentage <60:\n",
    "  print(\"C\")\n",
    "elif percentage >=40 and percentage <50:\n",
    "  print(\"D\")\n",
    "elif percentage >=33:\n",
    "  print(\"E\")\n",
    "elif percentage >=0 and percentage <33:\n",
    "  print(\"F\")\n",
    "else :\n",
    "  print(\"you enter inappropreiate %\")"
   ]
  },
  {
   "cell_type": "code",
   "execution_count": null,
   "metadata": {},
   "outputs": [],
   "source": []
  },
  {
   "cell_type": "code",
   "execution_count": null,
   "metadata": {},
   "outputs": [],
   "source": []
  },
  {
   "cell_type": "code",
   "execution_count": null,
   "metadata": {},
   "outputs": [],
   "source": []
  },
  {
   "cell_type": "code",
   "execution_count": null,
   "metadata": {},
   "outputs": [],
   "source": []
  },
  {
   "cell_type": "code",
   "execution_count": null,
   "metadata": {},
   "outputs": [],
   "source": []
  }
 ],
 "metadata": {
  "kernelspec": {
   "display_name": "Python 3",
   "language": "python",
   "name": "python3"
  },
  "language_info": {
   "codemirror_mode": {
    "name": "ipython",
    "version": 3
   },
   "file_extension": ".py",
   "mimetype": "text/x-python",
   "name": "python",
   "nbconvert_exporter": "python",
   "pygments_lexer": "ipython3",
   "version": "3.7.4"
  }
 },
 "nbformat": 4,
 "nbformat_minor": 2
}
