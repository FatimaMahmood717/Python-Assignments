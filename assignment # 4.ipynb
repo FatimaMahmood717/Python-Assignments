{
 "cells": [
  {
   "cell_type": "code",
   "execution_count": 1,
   "metadata": {},
   "outputs": [
    {
     "name": "stdout",
     "output_type": "stream",
     "text": [
      "Fatima\n",
      "Mahmood\n",
      "21\n",
      "Karachi\n",
      "BSSE\n",
      "Karachi University\n",
      "The student previous academic level: BSSE\n",
      "From: Karachi University\n",
      "The student new academic level: [Update] Masters in English\n",
      "From: [Update] NED\n",
      "deleted element:  NED\n",
      "after deletion our data is : {'field': 'Masters in English'}\n"
     ]
    }
   ],
   "source": [
    "person = {\n",
    "    'first_name': 'Fatima',\n",
    "    'last_name': 'Mahmood',\n",
    "    'age': 21,\n",
    "    'city': 'Karachi',\n",
    "        }\n",
    "print(person['first_name'])\n",
    "print(person['last_name'])\n",
    "print(person['age'])\n",
    "print(person['city'])\n",
    "\n",
    "dict = {'field': 'BSSE', 'university': 'Karachi University'}\n",
    "print(dict['field'])\n",
    "print(dict['university'])\n",
    "print(\"The student previous academic level:\", dict.get('field'))\n",
    "print(\"From:\", dict.get('university'))\n",
    "dict['field'] = 'Masters in English'\n",
    "dict['university'] = 'NED'\n",
    "print(\"The student new academic level: [Update]\", dict.get('field'))\n",
    "print(\"From: [Update]\", dict.get('university'))\n",
    "print(\"deleted element: \",dict.pop('university')) \n",
    "print('after deletion our data is :',dict)"
   ]
  },
  {
   "cell_type": "code",
   "execution_count": 2,
   "metadata": {},
   "outputs": [
    {
     "name": "stdout",
     "output_type": "stream",
     "text": [
      "Cities Dictionary:\n",
      "Karachi\n",
      "Lahore\n",
      "Islamabad\n",
      "----------------------------------------------------------------------------------------------------------------\n",
      "Information Of Karachi\n",
      "{'country': 'Pakistan', 'population': '14.9 million', 'fact': \"Karachi is one of the world's fastest growing cities, and has communities representing almost every ethnic group in Pakistan.\"}\n",
      "----------------------------------------------------------------------------------------------------------------\n",
      "Information Of Lahore\n",
      "{'country': 'Pakistan', 'population': '6.5 million', 'fact': 'It is the capital city of the province of Punjab and is the main center for culture in both the Punjab region and in Pakistan as a whole.'}\n",
      "----------------------------------------------------------------------------------------------------------------\n",
      "Information Of Islamabad\n",
      "{'country': 'Pakistan', 'population': '1,014,825', 'fact': \"Census, Islamabad is the 9th largest city in Pakistan, while the larger Islamabad-Rawalpindi metropolitan area is the country's third largest with a population exceeding four million.\"}\n",
      "----------------------------------------------------------------------------------------------------------------\n"
     ]
    }
   ],
   "source": [
    "print('Cities Dictionary:')\n",
    "city = {\n",
    "    'city1' : 'Karachi',\n",
    "    'city2' : 'Lahore',\n",
    "    'city3' : 'Islamabad',  \n",
    "}\n",
    "print(city['city1'])\n",
    "print(city['city2'])\n",
    "print(city['city3'])\n",
    "print('----------------------------------------------------------------------------------------------------------------')\n",
    "informationOfKarachi ={\n",
    "    'country' : 'Pakistan',\n",
    "    'population' :'14.9 million',\n",
    "    'fact' : 'Karachi is one of the world\\'s fastest growing cities, and has communities representing almost every ethnic group in Pakistan.',\n",
    "}\n",
    "print('Information Of Karachi')\n",
    "print(informationOfKarachi)\n",
    "print('----------------------------------------------------------------------------------------------------------------')\n",
    "informationOfLahore ={\n",
    "    'country' : 'Pakistan',\n",
    "    'population' :'6.5 million',\n",
    "    'fact' : 'It is the capital city of the province of Punjab and is the main center for culture in both the Punjab region and in Pakistan as a whole.',\n",
    "}\n",
    "print('Information Of Lahore')\n",
    "print(informationOfLahore)\n",
    "print('----------------------------------------------------------------------------------------------------------------')\n",
    "informationOfIslamabad ={\n",
    "    'country' : 'Pakistan',\n",
    "    'population' :'1,014,825',\n",
    "    'fact' : 'Census, Islamabad is the 9th largest city in Pakistan, while the larger Islamabad-Rawalpindi metropolitan area is the country\\'s third largest with a population exceeding four million.',\n",
    "}\n",
    "print('Information Of Islamabad')\n",
    "print(informationOfIslamabad)\n",
    "print('----------------------------------------------------------------------------------------------------------------')"
   ]
  },
  {
   "cell_type": "code",
   "execution_count": 3,
   "metadata": {},
   "outputs": [
    {
     "name": "stdout",
     "output_type": "stream",
     "text": [
      "Enter Your Age to check price of Movie Ticket 11\n",
      "Your ticket is $10\n"
     ]
    }
   ],
   "source": [
    "age = int(input('Enter Your Age to check price of Movie Ticket '))\n",
    "if age <= 3:\n",
    "      print(\"Your ticket is free\")\n",
    "elif age >=3 and age <12:\n",
    "        print(\"Your ticket is $10\")\n",
    "else:\n",
    "        print(\"Your ticket is $15\")"
   ]
  },
  {
   "cell_type": "code",
   "execution_count": 4,
   "metadata": {},
   "outputs": [
    {
     "name": "stdout",
     "output_type": "stream",
     "text": [
      "A Snow Day :) is one of my favorite book.\n"
     ]
    }
   ],
   "source": [
    "def favorite_book(title):\n",
    "    \"\"\"Display a message about someone's favorite book.\"\"\"\n",
    "    print(title + \" is one of my favorite book.\")\n",
    "\n",
    "favorite_book('A Snow Day :)')"
   ]
  },
  {
   "cell_type": "code",
   "execution_count": null,
   "metadata": {},
   "outputs": [
    {
     "name": "stdout",
     "output_type": "stream",
     "text": [
      " I am thinking of a number between 1 and 30.\n",
      "Take a guess.\n",
      "6\n",
      "Your guess is too low.\n",
      "Nope. The number I was thinking of was 30\n",
      "Take a guess.\n"
     ]
    }
   ],
   "source": [
    "import random\n",
    "guessesTaken = 3\n",
    "number = random.randint(1, 30)\n",
    "print(' I am thinking of a number between 1 and 30.')\n",
    "while guessesTaken < 6:\n",
    "    print('Take a guess.') # There are four spaces in front of print.\n",
    "    guess = input()\n",
    "    guess = int(guess)\n",
    "    \n",
    "    guessesTaken = guessesTaken + 1\n",
    "    \n",
    "    if guess < number:\n",
    "         print('Your guess is too low.') # There are eight spaces in front of print.\n",
    "    if guess > number:\n",
    "        print('Your guess is too high.')\n",
    "    if guess == number:\n",
    "        break \n",
    "    if guess == number:\n",
    "        guessesTaken = str(guessesTaken)\n",
    "        print('Good job, ' + myName + '! You guessed my number in ' + guessesTaken + ' guesses!')\n",
    "    if guess != number:\n",
    "        number = str(number)\n",
    "        print('Nope. The number I was thinking of was ' + number)"
   ]
  },
  {
   "cell_type": "code",
   "execution_count": null,
   "metadata": {},
   "outputs": [],
   "source": []
  },
  {
   "cell_type": "code",
   "execution_count": null,
   "metadata": {},
   "outputs": [],
   "source": []
  },
  {
   "cell_type": "code",
   "execution_count": null,
   "metadata": {},
   "outputs": [],
   "source": []
  }
 ],
 "metadata": {
  "kernelspec": {
   "display_name": "Python 3",
   "language": "python",
   "name": "python3"
  },
  "language_info": {
   "codemirror_mode": {
    "name": "ipython",
    "version": 3
   },
   "file_extension": ".py",
   "mimetype": "text/x-python",
   "name": "python",
   "nbconvert_exporter": "python",
   "pygments_lexer": "ipython3",
   "version": "3.7.4"
  }
 },
 "nbformat": 4,
 "nbformat_minor": 2
}
